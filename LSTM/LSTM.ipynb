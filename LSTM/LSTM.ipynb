{
 "cells": [
  {
   "cell_type": "code",
   "execution_count": 1,
   "metadata": {},
   "outputs": [],
   "source": [
    "# IMPORTS\n",
    "import math\n",
    "import numpy as np\n",
    "import pandas as pd\n",
    "import matplotlib.pyplot as plt\n",
    "\n",
    "from sklearn.preprocessing import MinMaxScaler\n",
    "from keras.models import Sequential\n",
    "from keras.layers import Dense, LSTM\n",
    "plt.style.use('fivethirtyeight')"
   ]
  },
  {
   "cell_type": "code",
   "execution_count": 2,
   "metadata": {},
   "outputs": [
    {
     "name": "stdout",
     "output_type": "stream",
     "text": [
      "(100, 1)\n"
     ]
    }
   ],
   "source": [
    "features = np.random.randint(10, size=(100, 1))\n",
    "print(features.shape)"
   ]
  },
  {
   "cell_type": "code",
   "execution_count": 3,
   "metadata": {
    "scrolled": true
   },
   "outputs": [
    {
     "name": "stdout",
     "output_type": "stream",
     "text": [
      "75\n"
     ]
    }
   ],
   "source": [
    "training_dataset_length = math.ceil(len(features) * 0.75)\n",
    "print(training_dataset_length)"
   ]
  },
  {
   "cell_type": "code",
   "execution_count": 4,
   "metadata": {},
   "outputs": [],
   "source": [
    "# MinMaxScaling\n",
    "scaler = MinMaxScaler(feature_range=(0,1))\n",
    "scaled_data = scaler.fit_transform(features)"
   ]
  },
  {
   "cell_type": "code",
   "execution_count": 5,
   "metadata": {},
   "outputs": [],
   "source": [
    "train_data = scaled_data[0:training_dataset_length, : ]\n",
    "\n",
    "# splitting data\n",
    "x_train=[]\n",
    "y_train=[]\n",
    "\n",
    "for i in range(10, len(train_data)):\n",
    "    x_train.append(train_data[i-10:i,0])\n",
    "    y_train.append(train_data[i,0])"
   ]
  },
  {
   "cell_type": "code",
   "execution_count": 6,
   "metadata": {},
   "outputs": [],
   "source": [
    "# Convert to numpy arrays\n",
    "x_train, y_train = np.array(x_train), np.array(y_train)\n",
    "#Reshape the data into 3-D array\n",
    "x_train = np.reshape(x_train, (x_train.shape[0],x_train.shape[1],1))"
   ]
  },
  {
   "cell_type": "code",
   "execution_count": 7,
   "metadata": {},
   "outputs": [],
   "source": [
    "from keras.layers import Dropout\n",
    "\n",
    "# Initialising the RNN\n",
    "model = Sequential()\n",
    "model.add(LSTM(units = 50, return_sequences = True, input_shape = (x_train.shape[1], 1)))\n",
    "model.add(Dropout(0.2))\n",
    "\n",
    "# Adding a second LSTM layer and Dropout layer\n",
    "model.add(LSTM(units = 50, return_sequences = True))\n",
    "model.add(Dropout(0.2))\n",
    "\n",
    "# Adding a third LSTM layer and Dropout layer\n",
    "model.add(LSTM(units = 50, return_sequences = True))\n",
    "model.add(Dropout(0.2))\n",
    "\n",
    "# Adding a fourth LSTM layer and Dropout layer\n",
    "model.add(LSTM(units = 50))\n",
    "model.add(Dropout(0.2))\n",
    "\n",
    "# Adding the output layer\n",
    "# For Full connection layer we use dense\n",
    "# As the output is 1D so we use unit=1\n",
    "model.add(Dense(units = 1))"
   ]
  },
  {
   "cell_type": "code",
   "execution_count": 8,
   "metadata": {},
   "outputs": [
    {
     "name": "stdout",
     "output_type": "stream",
     "text": [
      "Epoch 1/30\n",
      "2/2 [==============================] - 10s 16ms/step - loss: 0.3437\n",
      "Epoch 2/30\n",
      "2/2 [==============================] - 0s 16ms/step - loss: 0.2891\n",
      "Epoch 3/30\n",
      "2/2 [==============================] - 0s 16ms/step - loss: 0.2195\n",
      "Epoch 4/30\n",
      "2/2 [==============================] - 0s 16ms/step - loss: 0.1449\n",
      "Epoch 5/30\n",
      "2/2 [==============================] - 0s 16ms/step - loss: 0.1135\n",
      "Epoch 6/30\n",
      "2/2 [==============================] - 0s 16ms/step - loss: 0.1428\n",
      "Epoch 7/30\n",
      "2/2 [==============================] - 0s 16ms/step - loss: 0.1564\n",
      "Epoch 8/30\n",
      "2/2 [==============================] - 0s 16ms/step - loss: 0.1215\n",
      "Epoch 9/30\n",
      "2/2 [==============================] - 0s 16ms/step - loss: 0.1090\n",
      "Epoch 10/30\n",
      "2/2 [==============================] - 0s 16ms/step - loss: 0.1147\n",
      "Epoch 11/30\n",
      "2/2 [==============================] - 0s 16ms/step - loss: 0.1168\n",
      "Epoch 12/30\n",
      "2/2 [==============================] - 0s 24ms/step - loss: 0.1090\n",
      "Epoch 13/30\n",
      "2/2 [==============================] - 0s 16ms/step - loss: 0.1088\n",
      "Epoch 14/30\n",
      "2/2 [==============================] - 0s 16ms/step - loss: 0.1119\n",
      "Epoch 15/30\n",
      "2/2 [==============================] - 0s 16ms/step - loss: 0.1119\n",
      "Epoch 16/30\n",
      "2/2 [==============================] - 0s 16ms/step - loss: 0.1167\n",
      "Epoch 17/30\n",
      "2/2 [==============================] - 0s 16ms/step - loss: 0.1159\n",
      "Epoch 18/30\n",
      "2/2 [==============================] - 0s 16ms/step - loss: 0.1205\n",
      "Epoch 19/30\n",
      "2/2 [==============================] - 0s 16ms/step - loss: 0.1118\n",
      "Epoch 20/30\n",
      "2/2 [==============================] - 0s 16ms/step - loss: 0.1132\n",
      "Epoch 21/30\n",
      "2/2 [==============================] - 0s 16ms/step - loss: 0.1143\n",
      "Epoch 22/30\n",
      "2/2 [==============================] - 0s 16ms/step - loss: 0.1121\n",
      "Epoch 23/30\n",
      "2/2 [==============================] - 0s 16ms/step - loss: 0.1143\n",
      "Epoch 24/30\n",
      "2/2 [==============================] - 0s 16ms/step - loss: 0.1121\n",
      "Epoch 25/30\n",
      "2/2 [==============================] - 0s 16ms/step - loss: 0.1139\n",
      "Epoch 26/30\n",
      "2/2 [==============================] - 0s 24ms/step - loss: 0.1154\n",
      "Epoch 27/30\n",
      "2/2 [==============================] - 0s 16ms/step - loss: 0.1191\n",
      "Epoch 28/30\n",
      "2/2 [==============================] - 0s 16ms/step - loss: 0.1171\n",
      "Epoch 29/30\n",
      "2/2 [==============================] - 0s 16ms/step - loss: 0.1252\n",
      "Epoch 30/30\n",
      "2/2 [==============================] - 0s 16ms/step - loss: 0.1184\n"
     ]
    },
    {
     "data": {
      "text/plain": [
       "<tensorflow.python.keras.callbacks.History at 0x2aab606ebb0>"
      ]
     },
     "execution_count": 8,
     "metadata": {},
     "output_type": "execute_result"
    }
   ],
   "source": [
    "# compile and fit the model on 30 epochs\n",
    "model.compile(optimizer = 'adam', loss = 'mean_squared_error')\n",
    "model.fit(x_train, y_train, epochs = 30, batch_size = 50)"
   ]
  },
  {
   "cell_type": "code",
   "execution_count": 9,
   "metadata": {},
   "outputs": [],
   "source": [
    "# Test data set\n",
    "test_data = scaled_data[training_dataset_length - 10: , : ]\n",
    "\n",
    "# splitting the x_test and y_test data sets\n",
    "x_test = []\n",
    "y_test =  features[training_dataset_length : , : ] \n",
    "\n",
    "for i in range(10,len(test_data)):\n",
    "    x_test.append(test_data[i-10:i,0])\n",
    "    \n",
    "#Convert x_test to a numpy array \n",
    "x_test = np.array(x_test)\n",
    "\n",
    "#Reshape the data into 3-D array\n",
    "x_test = np.reshape(x_test, (x_test.shape[0],x_test.shape[1],1))"
   ]
  },
  {
   "cell_type": "code",
   "execution_count": 10,
   "metadata": {},
   "outputs": [
    {
     "data": {
      "text/plain": [
       "2.8165404408241232"
      ]
     },
     "execution_count": 10,
     "metadata": {},
     "output_type": "execute_result"
    }
   ],
   "source": [
    "# Check predicted values\n",
    "predictions = model.predict(x_test) \n",
    "\n",
    "# Undo scaling\n",
    "predictions = scaler.inverse_transform(predictions)\n",
    "\n",
    "#Calculate RMSE score\n",
    "rmse=np.sqrt(np.mean(((predictions- y_test)**2)))\n",
    "rmse"
   ]
  }
 ],
 "metadata": {
  "kernelspec": {
   "display_name": "Python 3",
   "language": "python",
   "name": "python3"
  },
  "language_info": {
   "codemirror_mode": {
    "name": "ipython",
    "version": 3
   },
   "file_extension": ".py",
   "mimetype": "text/x-python",
   "name": "python",
   "nbconvert_exporter": "python",
   "pygments_lexer": "ipython3",
   "version": "3.8.5"
  }
 },
 "nbformat": 4,
 "nbformat_minor": 4
}
