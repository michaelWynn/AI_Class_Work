{
 "cells": [
  {
   "cell_type": "code",
   "execution_count": 2,
   "metadata": {},
   "outputs": [
    {
     "name": "stdout",
     "output_type": "stream",
     "text": [
      "Requirement already satisfied: opencv-python in c:\\users\\wynnm\\anaconda3\\lib\\site-packages (4.5.2.52)\n",
      "Requirement already satisfied: numpy>=1.17.3 in c:\\users\\wynnm\\anaconda3\\lib\\site-packages (from opencv-python) (1.19.2)\n"
     ]
    }
   ],
   "source": [
    "!pip3 install opencv-python"
   ]
  },
  {
   "cell_type": "code",
   "execution_count": 3,
   "metadata": {},
   "outputs": [],
   "source": [
    "import numpy as np \n",
    "import pandas as pd \n",
    "import matplotlib.pyplot as plt\n",
    "import cv2\n",
    "import tensorflow as tf\n",
    "from PIL import Image\n",
    "import os\n",
    "from sklearn.model_selection import train_test_split\n",
    "from keras.utils import to_categorical\n",
    "from keras.models import Sequential, load_model\n",
    "from keras.layers import Conv2D, MaxPool2D, Dense, Flatten, Dropout\n",
    "\n",
    "data = []\n",
    "labels = []\n",
    "classes = 43\n",
    "# Retrieve current working directory with OS package \n",
    "cur_path = os.getcwd()\n",
    "\n",
    "#Retrieving the images and their labels \n",
    "for i in range(classes):\n",
    "    path = os.path.join(cur_path,'Train',str(i))\n",
    "    images = os.listdir(path)\n",
    "\n",
    "    for a in images:\n",
    "        try:\n",
    "            image = Image.open(path + '\\\\'+ a)\n",
    "            image = image.resize((30,30))\n",
    "            image = np.array(image)\n",
    "            #sim = Image.fromarray(image)\n",
    "            data.append(image)\n",
    "            labels.append(i)\n",
    "        except:\n",
    "            print(\"Error loading image\")\n",
    "\n",
    "#Converting lists into numpy arrays\n",
    "data = np.array(data)\n",
    "labels = np.array(labels)"
   ]
  },
  {
   "cell_type": "code",
   "execution_count": 4,
   "metadata": {},
   "outputs": [
    {
     "name": "stdout",
     "output_type": "stream",
     "text": [
      "(39209, 30, 30, 3) (39209,)\n",
      "(31367, 30, 30, 3) (7842, 30, 30, 3) (31367,) (7842,)\n"
     ]
    }
   ],
   "source": [
    "print(data.shape, labels.shape)\n",
    "#Splitting training and testing dataset\n",
    "X_train, X_test, y_train, y_test = train_test_split(data, labels, test_size=0.2, random_state=42)\n",
    "\n",
    "print(X_train.shape, X_test.shape, y_train.shape, y_test.shape)\n",
    "\n",
    "#Converting the labels into one hot encoding\n",
    "y_train = to_categorical(y_train, 43)\n",
    "y_test = to_categorical(y_test, 43)"
   ]
  },
  {
   "cell_type": "code",
   "execution_count": 5,
   "metadata": {},
   "outputs": [],
   "source": [
    "#Building the model\n",
    "model = Sequential()\n",
    "model.add(Conv2D(filters=32, kernel_size=(5,5), activation='relu', input_shape=X_train.shape[1:]))\n",
    "model.add(Conv2D(filters=32, kernel_size=(5,5), activation='relu'))\n",
    "model.add(MaxPool2D(pool_size=(2, 2)))\n",
    "model.add(Dropout(rate=0.25))\n",
    "model.add(Conv2D(filters=64, kernel_size=(3, 3), activation='relu'))\n",
    "model.add(Conv2D(filters=64, kernel_size=(3, 3), activation='relu'))\n",
    "model.add(MaxPool2D(pool_size=(2, 2)))\n",
    "model.add(Dropout(rate=0.25))\n",
    "model.add(Flatten())\n",
    "model.add(Dense(256, activation='relu'))\n",
    "model.add(Dropout(rate=0.5))\n",
    "model.add(Dense(43, activation='softmax'))\n",
    "\n",
    "#Compilation of the model\n",
    "model.compile(loss='categorical_crossentropy', optimizer='adam', metrics=['accuracy'])"
   ]
  },
  {
   "cell_type": "code",
   "execution_count": 6,
   "metadata": {},
   "outputs": [
    {
     "name": "stdout",
     "output_type": "stream",
     "text": [
      "Epoch 1/15\n",
      "981/981 [==============================] - 64s 62ms/step - loss: 3.5570 - accuracy: 0.2931 - val_loss: 0.7090 - val_accuracy: 0.8652\n",
      "Epoch 2/15\n",
      "981/981 [==============================] - 63s 64ms/step - loss: 0.9928 - accuracy: 0.7155 - val_loss: 0.3710 - val_accuracy: 0.8989\n",
      "Epoch 3/15\n",
      "981/981 [==============================] - 63s 64ms/step - loss: 0.7154 - accuracy: 0.7860 - val_loss: 0.2637 - val_accuracy: 0.9259ETA: 47s - ETA: 1s - loss: 0.7165 - accuracy: 0.78 - ETA: 1s - - ETA: 0s - loss: 0.7157 - accuracy\n",
      "Epoch 4/15\n",
      "981/981 [==============================] - 64s 65ms/step - loss: 0.5482 - accuracy: 0.8329 - val_loss: 0.1832 - val_accuracy: 0.9538\n",
      "Epoch 5/15\n",
      "981/981 [==============================] - 65s 66ms/step - loss: 0.4272 - accuracy: 0.8718 - val_loss: 0.1548 - val_accuracy: 0.960316s - loss: 0.4272  - ETA: 14s - loss: 0.4272 - accuracy: - ETA: 14s - loss: - ETA: 12s - lo - ETA: 0s - loss: 0.4272 \n",
      "Epoch 6/15\n",
      "981/981 [==============================] - 65s 66ms/step - loss: 0.4019 - accuracy: 0.8765 - val_loss: 0.1198 - val_accuracy: 0.9672ss: 0.4055 - accuracy: 0. - ETA: 18s - - ETA: 13s - loss: 0.4045 - accuracy: 0.8 - ETA: 13s -  - ETA: 7s - loss: 0 - ETA\n",
      "Epoch 7/15\n",
      "981/981 [==============================] - 64s 65ms/step - loss: 0.3622 - accuracy: 0.8900 - val_loss: 0.1372 - val_accuracy: 0.9639\n",
      "Epoch 8/15\n",
      "981/981 [==============================] - 63s 64ms/step - loss: 0.3345 - accuracy: 0.8987 - val_loss: 0.1886 - val_accuracy: 0.9449s - loss: 0.3291 -  - ETA: 19s - loss: 0.3294  - ETA: 15s - los - ETA: 13s - loss: 0.3313 - accuracy: 0. - ETA: 13s - loss: 0.3314 -  - ETA: 12s - loss: 0.3316 - a - ETA\n",
      "Epoch 9/15\n",
      "981/981 [==============================] - 64s 65ms/step - loss: 0.3553 - accuracy: 0.8920 - val_loss: 0.0994 - val_accuracy: 0.9704\n",
      "Epoch 10/15\n",
      "981/981 [==============================] - 65s 66ms/step - loss: 0.2767 - accuracy: 0.9167 - val_loss: 0.1459 - val_accuracy: 0.9588\n",
      "Epoch 11/15\n",
      "981/981 [==============================] - 66s 67ms/step - loss: 0.2696 - accuracy: 0.9204 - val_loss: 0.0896 - val_accuracy: 0.9746\n",
      "Epoch 12/15\n",
      "981/981 [==============================] - 66s 68ms/step - loss: 0.2823 - accuracy: 0.9180 - val_loss: 0.0794 - val_accuracy: 0.9793\n",
      "Epoch 13/15\n",
      "981/981 [==============================] - 66s 67ms/step - loss: 0.2543 - accuracy: 0.9280 - val_loss: 0.0708 - val_accuracy: 0.9816\n",
      "Epoch 14/15\n",
      "981/981 [==============================] - 67s 69ms/step - loss: 0.2430 - accuracy: 0.9281 - val_loss: 0.0771 - val_accuracy: 0.9786\n",
      "Epoch 15/15\n",
      "981/981 [==============================] - 63s 64ms/step - loss: 0.2276 - accuracy: 0.9337 - val_loss: 0.0781 - val_accuracy: 0.9796\n"
     ]
    }
   ],
   "source": [
    "epochs = 15\n",
    "history = model.fit(X_train, y_train, batch_size=32, epochs=epochs, validation_data=(X_test, y_test))\n",
    "model.save(\"traffic_classifier.h5\")"
   ]
  },
  {
   "cell_type": "code",
   "execution_count": 7,
   "metadata": {},
   "outputs": [
    {
     "data": {
      "image/png": "[encoded data removed]",
      "text/plain": [
       "<Figure size 432x288 with 1 Axes>"
      ]
     },
     "metadata": {
      "needs_background": "light"
     },
     "output_type": "display_data"
    },
    {
     "data": {
      "image/png": "[encoded data removed]",
      "text/plain": [
       "<Figure size 432x288 with 1 Axes>"
      ]
     },
     "metadata": {
      "needs_background": "light"
     },
     "output_type": "display_data"
    }
   ],
   "source": [
    "#plotting graphs for accuracy \n",
    "plt.figure(0)\n",
    "plt.plot(history.history['accuracy'], label='training accuracy')\n",
    "plt.plot(history.history['val_accuracy'], label='val accuracy')\n",
    "plt.title('Accuracy')\n",
    "plt.xlabel('epochs')\n",
    "plt.ylabel('accuracy')\n",
    "plt.legend()\n",
    "plt.show()\n",
    "\n",
    "plt.figure(1)\n",
    "plt.plot(history.history['loss'], label='training loss')\n",
    "plt.plot(history.history['val_loss'], label='val loss')\n",
    "plt.title('Loss')\n",
    "plt.xlabel('epochs')\n",
    "plt.ylabel('loss')\n",
    "plt.legend()\n",
    "plt.show()"
   ]
  },
  {
   "cell_type": "code",
   "execution_count": 10,
   "metadata": {},
   "outputs": [
    {
     "name": "stdout",
     "output_type": "stream",
     "text": [
      "0.9367379255740301\n"
     ]
    }
   ],
   "source": [
    "#testing accuracy on test dataset\n",
    "from sklearn.metrics import accuracy_score\n",
    "\n",
    "y_test = pd.read_csv('Test.csv')\n",
    "\n",
    "labels = y_test[\"ClassId\"].values\n",
    "imgs = y_test[\"Path\"].values\n",
    "\n",
    "data=[]\n",
    "\n",
    "for img in imgs:\n",
    "    image = Image.open(img)\n",
    "    image = image.resize((30,30))\n",
    "    data.append(np.array(image))\n",
    "\n",
    "X_test=np.array(data)\n",
    "\n",
    "pred = model.predict_classes(X_test)\n",
    "\n",
    "#Accuracy with the test data\n",
    "from sklearn.metrics import accuracy_score\n",
    "print(accuracy_score(labels, pred))"
   ]
  }
 ],
 "metadata": {
  "kernelspec": {
   "display_name": "Python 3",
   "language": "python",
   "name": "python3"
  },
  "language_info": {
   "codemirror_mode": {
    "name": "ipython",
    "version": 3
   },
   "file_extension": ".py",
   "mimetype": "text/x-python",
   "name": "python",
   "nbconvert_exporter": "python",
   "pygments_lexer": "ipython3",
   "version": "3.8.5"
  }
 },
 "nbformat": 4,
 "nbformat_minor": 4
}
